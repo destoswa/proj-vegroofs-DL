{
 "cells": [
  {
   "cell_type": "markdown",
   "metadata": {},
   "source": [
    "# Training tests"
   ]
  },
  {
   "cell_type": "markdown",
   "metadata": {},
   "source": [
    "### Dependencies"
   ]
  },
  {
   "cell_type": "code",
   "execution_count": 3,
   "metadata": {},
   "outputs": [
    {
     "name": "stdout",
     "output_type": "stream",
     "text": [
      "['C:/Users/swann/GitHub_Projects/STDL_Classifier', 'C:/Users/swann/GitHub_Projects/STDL_Classifier', 'C:/Users/swann/GitHub_Projects/STDL_Classifier', 'C:\\\\Users\\\\swann\\\\AppData\\\\Local\\\\Programs\\\\Python\\\\Python39\\\\python39.zip', 'C:\\\\Users\\\\swann\\\\AppData\\\\Local\\\\Programs\\\\Python\\\\Python39\\\\DLLs', 'C:\\\\Users\\\\swann\\\\AppData\\\\Local\\\\Programs\\\\Python\\\\Python39\\\\lib', 'C:\\\\Users\\\\swann\\\\AppData\\\\Local\\\\Programs\\\\Python\\\\Python39', 'd:\\\\GitHubProjects\\\\STDL_Classifier\\\\.venv', '', 'd:\\\\GitHubProjects\\\\STDL_Classifier\\\\.venv\\\\lib\\\\site-packages', 'd:\\\\GitHubProjects\\\\STDL_Classifier\\\\.venv\\\\lib\\\\site-packages\\\\win32', 'd:\\\\GitHubProjects\\\\STDL_Classifier\\\\.venv\\\\lib\\\\site-packages\\\\win32\\\\lib', 'd:\\\\GitHubProjects\\\\STDL_Classifier\\\\.venv\\\\lib\\\\site-packages\\\\Pythonwin']\n"
     ]
    }
   ],
   "source": [
    "import numpy as np\n",
    "import os\n",
    "import matplotlib.pyplot as plt\n",
    "import pandas as pd\n",
    "import geopandas as gpd\n",
    "from sklearn.metrics import precision_score\n",
    "import torch\n",
    "import sys\n",
    "sys.path.insert(0,'C:/Users/swann/GitHub_Projects/STDL_Classifier')\n",
    "print(sys.path)\n",
    "#from models.model_classifier_multi import ASPP_Multi_Classifier"
   ]
  },
  {
   "cell_type": "markdown",
   "metadata": {},
   "source": [
    "### saving logs"
   ]
  },
  {
   "cell_type": "code",
   "execution_count": 2,
   "metadata": {},
   "outputs": [
    {
     "name": "stdout",
     "output_type": "stream",
     "text": [
      "{'train': [array([0.64797504, 0.56977201]), array([0.77348496, 0.18688355]), array([0.11288686, 0.5749656 ]), array([0.66244728, 0.50231679]), array([0.20536198, 0.3886932 ]), array([0.36298994, 0.30982615]), array([0.66631712, 0.11956009]), array([0.45718637, 0.79360752]), array([0.2031192 , 0.75990489]), array([0.29711598, 0.86530957])], 'val': [array([0.77777397, 0.0913485 ]), array([0.48797499, 0.4804272 ]), array([0.52288076, 0.02899229]), array([0.92254568, 0.92566559]), array([0.63599207, 0.4558204 ]), array([0.5680252 , 0.55248742]), array([0.8157874 , 0.54468387]), array([0.95600641, 0.66125163]), array([0.21906847, 0.78288764]), array([0.27607674, 0.82021714])]}\n"
     ]
    }
   ],
   "source": [
    "LOG_DIR = \"../logs/\"\n",
    "folder_name = \"test/\"\n",
    "modes = ['train', 'val']\n",
    "metrics = {'train': [], 'val': []}\n",
    "for i in range(10):\n",
    "    for phase in modes:\n",
    "        metrics[phase].append(np.random.rand(2))\n",
    "\n",
    "print(metrics)\n",
    "for phase in modes:\n",
    "            pd.DataFrame(metrics[phase], columns=[\"loss\", \"OA\"]).to_csv(LOG_DIR + folder_name + \"metrics_\" + phase + \".csv\", index=False, sep=\";\")"
   ]
  },
  {
   "cell_type": "markdown",
   "metadata": {},
   "source": [
    "### metrics"
   ]
  },
  {
   "cell_type": "code",
   "execution_count": 12,
   "metadata": {},
   "outputs": [
    {
     "name": "stdout",
     "output_type": "stream",
     "text": [
      "micro : 0.7777777777777778\n",
      "macro : 0.7777777777777778\n",
      "weighted : 0.8055555555555556\n"
     ]
    }
   ],
   "source": [
    "preds = [0,0,0,0,1,1,2,2,2,3,3,3,3,4,4,5,5,5]\n",
    "targets = [1,1,0,0,4,1,2,2,2,3,3,3,3,5,4,5,5,5]\n",
    "precision_micro = precision_score(y_true=targets, y_pred=preds, average='micro')\n",
    "precision_macro = precision_score(y_true=targets, y_pred=preds, average='micro')\n",
    "precision_weighted = precision_score(y_true=targets, y_pred=preds, average='weighted')\n",
    "print(\"micro : \" + str(precision_micro))\n",
    "print(\"macro : \" + str(precision_macro))\n",
    "print(\"weighted : \" + str(precision_weighted))\n",
    "\n"
   ]
  },
  {
   "cell_type": "code",
   "execution_count": null,
   "metadata": {},
   "outputs": [],
   "source": []
  },
  {
   "cell_type": "markdown",
   "metadata": {},
   "source": [
    "### Looking a number of parameters on pretrained model"
   ]
  },
  {
   "cell_type": "code",
   "execution_count": 15,
   "metadata": {},
   "outputs": [],
   "source": [
    "def count_parameters(model):\n",
    "    return sum(p.numel() for p in model.parameters() if p.requires_grad)"
   ]
  },
  {
   "cell_type": "code",
   "execution_count": 16,
   "metadata": {},
   "outputs": [
    {
     "name": "stdout",
     "output_type": "stream",
     "text": [
      "Total number of parameters: 874764\n"
     ]
    }
   ],
   "source": [
    "src_model = \"../pretrained/model.tar\"\n",
    "class_names = ['bare', 'terrace', 'spontaneous', 'extensive', 'lawn', 'intensive']\n",
    "# load model\n",
    "model = DeepLabV3Classificator(\n",
    "        input_channels=6,\n",
    "        output_channels=len(class_names),\n",
    "        img_size=512,\n",
    "        batch_size=16,\n",
    "    ).double()\n",
    "\n",
    "print(f\"Total number of parameters: {count_parameters(model)}\")"
   ]
  },
  {
   "cell_type": "code",
   "execution_count": 8,
   "metadata": {},
   "outputs": [
    {
     "name": "stdout",
     "output_type": "stream",
     "text": [
      "['bare' 'vegetated']\n"
     ]
    }
   ],
   "source": [
    "class_labels = pd.read_csv(os.path.join(\"../data/dataset_test\",'class_names.csv'), sep=';').drop_duplicates(subset='cat').cat.values\n",
    "print(class_labels)"
   ]
  },
  {
   "cell_type": "code",
   "execution_count": null,
   "metadata": {},
   "outputs": [],
   "source": []
  }
 ],
 "metadata": {
  "kernelspec": {
   "display_name": ".venv",
   "language": "python",
   "name": "python3"
  },
  "language_info": {
   "codemirror_mode": {
    "name": "ipython",
    "version": 3
   },
   "file_extension": ".py",
   "mimetype": "text/x-python",
   "name": "python",
   "nbconvert_exporter": "python",
   "pygments_lexer": "ipython3",
   "version": "3.9.13"
  }
 },
 "nbformat": 4,
 "nbformat_minor": 2
}
